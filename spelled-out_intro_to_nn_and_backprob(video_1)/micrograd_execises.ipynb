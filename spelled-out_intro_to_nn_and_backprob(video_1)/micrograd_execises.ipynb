{
  "cells": [
    {
      "cell_type": "markdown",
      "metadata": {
        "id": "JnGHatCI51JP"
      },
      "source": [
        "# micrograd exercises\n",
        "\n",
        "1. watch the [micrograd video](https://www.youtube.com/watch?v=VMj-3S1tku0) on YouTube\n",
        "2. come back and complete these exercises to level up :)"
      ]
    },
    {
      "cell_type": "markdown",
      "metadata": {
        "id": "OFt6NKOz6iBZ"
      },
      "source": [
        "## section 1: derivatives"
      ]
    },
    {
      "cell_type": "code",
      "execution_count": 1,
      "metadata": {
        "id": "3Jx9fCXl5xHd"
      },
      "outputs": [
        {
          "name": "stdout",
          "output_type": "stream",
          "text": [
            "6.336362190988558\n"
          ]
        }
      ],
      "source": [
        "# here is a mathematical expression that takes 3 inputs and produces one output\n",
        "from math import sin, cos\n",
        "\n",
        "def f(a, b, c):\n",
        "  return -a**3 + sin(3*b) - 1.0/c + b**2.5 - a**0.5\n",
        "\n",
        "print(f(2, 3, 4))"
      ]
    },
    {
      "cell_type": "code",
      "execution_count": 21,
      "metadata": {
        "id": "qXaH59eL9zxf"
      },
      "outputs": [
        {
          "name": "stdout",
          "output_type": "stream",
          "text": [
            "OK for dim 0: expected -12.353553390593273, yours returns -12.353553390593273\n",
            "OK for dim 1: expected 10.25699027111255, yours returns 10.25699027111255\n",
            "OK for dim 2: expected 0.0625, yours returns 0.0625\n"
          ]
        }
      ],
      "source": [
        "# write the function df that returns the analytical gradient of f\n",
        "# i.e. use your skills from calculus to take the derivative, then implement the formula\n",
        "# if you do not calculus then feel free to ask wolframalpha, e.g.:\n",
        "# https://www.wolframalpha.com/input?i=d%2Fda%28sin%283*a%29%29%29\n",
        "\n",
        "def gradf(a, b, c):\n",
        "  a_div = -3 *a**2 - 0.5 * a**-0.5\n",
        "  b_div = 3 * cos(3*b) + 2.5 * b**1.5\n",
        "  c_div = c ** -2\n",
        "  return [a_div, b_div, c_div] # todo, return [df/da, df/db, df/dc]\n",
        "\n",
        "# expected answer is the list of\n",
        "ans = [-12.353553390593273, 10.25699027111255, 0.0625]\n",
        "yours = gradf(2, 3, 4)\n",
        "for dim in range(3):\n",
        "  ok = 'OK' if abs(yours[dim] - ans[dim]) < 1e-5 else 'WRONG!'\n",
        "  print(f\"{ok} for dim {dim}: expected {ans[dim]}, yours returns {yours[dim]}\")\n"
      ]
    },
    {
      "cell_type": "code",
      "execution_count": 20,
      "metadata": {
        "id": "_27n-KTA9Qla"
      },
      "outputs": [
        {
          "name": "stdout",
          "output_type": "stream",
          "text": [
            "OK for dim 0: expected -12.353553390593273, yours returns -12.353554623700802\n",
            "OK for dim 1: expected 10.25699027111255, yours returns 10.256990812251843\n",
            "OK for dim 2: expected 0.0625, yours returns 0.06250022721587811\n"
          ]
        }
      ],
      "source": [
        "# now estimate the gradient numerically without any calculus, using\n",
        "# the approximation we used in the video.\n",
        "# you should not call the function df from the last cell\n",
        "\n",
        "# -----------\n",
        "def approx_gradf(a, b, c):\n",
        "    h = 0.000000001\n",
        "    a_div = (f(a+h, b, c) - f(a, b, c)) / h\n",
        "    b_div = (f(a, b+h, c) - f(a, b, c)) / h\n",
        "    c_div = (f(a, b, c+h) - f(a, b, c)) / h\n",
        "    return [a_div, b_div, c_div]\n",
        "\n",
        "numerical_grad = approx_gradf(2, 3, 4)\n",
        "# -----------\n",
        "\n",
        "for dim in range(3):\n",
        "  ok = 'OK' if abs(numerical_grad[dim] - ans[dim]) < 1e-5 else 'WRONG!'\n",
        "  print(f\"{ok} for dim {dim}: expected {ans[dim]}, yours returns {numerical_grad[dim]}\")\n"
      ]
    },
    {
      "cell_type": "code",
      "execution_count": 26,
      "metadata": {
        "id": "BUqsGb5o_h2P"
      },
      "outputs": [
        {
          "name": "stdout",
          "output_type": "stream",
          "text": [
            "OK for dim 0: expected -12.353553390593273, yours returns -12.353554623700802\n",
            "OK for dim 1: expected 10.25699027111255, yours returns 10.256990812251843\n",
            "OK for dim 2: expected 0.0625, yours returns 0.06250022721587811\n"
          ]
        }
      ],
      "source": [
        "# there is an alternative formula that provides a much better numerical\n",
        "# approximation to the derivative of a function.\n",
        "# learn about it here: https://en.wikipedia.org/wiki/Symmetric_derivative\n",
        "# implement it. confirm that for the same step size h this version gives a\n",
        "# better approximation.\n",
        "\n",
        "# -----------\n",
        "def symmeterical_approx_gradf(a, b, c):\n",
        "    h = 0.000000001\n",
        "    a_div = (f(a+h, b, c) - f(a-h, b, c)) / (2*h)\n",
        "    b_div = (f(a, b+h, c) - f(a, b-h, c)) / (2*h)\n",
        "    c_div = (f(a, b, c+h) - f(a, b, c-h)) / (2*h)\n",
        "    return [a_div, b_div, c_div]\n",
        "\n",
        "numerical_grad2 = symmeterical_approx_gradf(2, 3, 4)\n",
        "# -----------\n",
        "\n",
        "for dim in range(3):\n",
        "  ok = 'OK' if abs(numerical_grad2[dim] - ans[dim]) < 1e-5 else 'WRONG!'\n",
        "  print(f\"{ok} for dim {dim}: expected {ans[dim]}, yours returns {numerical_grad2[dim]}\")\n"
      ]
    },
    {
      "cell_type": "markdown",
      "metadata": {
        "id": "tklF9s_4AtlI"
      },
      "source": [
        "## section 2: support for softmax"
      ]
    },
    {
      "cell_type": "code",
      "execution_count": 23,
      "metadata": {
        "id": "nAPe_RVrCTeO"
      },
      "outputs": [],
      "source": [
        "import torch\n",
        "import random\n",
        "import math\n",
        "\n",
        "class Value:\n",
        "    def __init__(self, data, __children=(), op=\"\", label=\"\"):\n",
        "        self.data = data\n",
        "        self.grad = 0.0\n",
        "        self.backward = lambda: None\n",
        "        self.prev = set(__children)\n",
        "        self.op = op\n",
        "        self.label = label\n",
        "\n",
        "    def __repr__(self):\n",
        "        return f\"Value=(data={self.data})\"\n",
        "\n",
        "    def __add__(self, other):\n",
        "        if type(other) != Value:\n",
        "            raise ValueError(f\"Other is not of type 'Value', other is of type '{type(other)}'\")\n",
        "\n",
        "        out = Value(self.data + other.data, (self, other), '+', label=\"v\")\n",
        "\n",
        "        def backward():\n",
        "            self.grad += out.grad\n",
        "            other.grad += out.grad\n",
        "        \n",
        "        out.backward = backward\n",
        "        return out\n",
        "    \n",
        "    def __sub__(self, other):\n",
        "        if type(other) != Value:\n",
        "            raise ValueError(f\"Other is not of type 'Value', other is of type '{type(other)}'\")\n",
        "    \n",
        "        out = Value(self.data - other.data, (self, other), '-', label=\"v\")\n",
        "\n",
        "        def backward():\n",
        "            self.grad += out.grad\n",
        "            other.grad += -out.grad\n",
        "        \n",
        "        out.backward = backward\n",
        "        return out\n",
        "    \n",
        "    def __mul__(self, other):\n",
        "        if type(other) != Value:\n",
        "            raise ValueError(f\"Other is not of type 'Value', other is of type '{type(other)}'\")\n",
        "\n",
        "        out = Value(self.data * other.data, (self, other), '*', label=\"v\")\n",
        "\n",
        "        def backward():\n",
        "            self.grad += other.data * out.grad\n",
        "            other.grad += self.data * out.grad\n",
        "        \n",
        "        out.backward = backward\n",
        "        return out\n",
        "\n",
        "    def __neg__(self):\n",
        "        return self.__mul__(Value(-1))\n",
        "    \n",
        "    def __truediv__(self, other):\n",
        "        if type(other) != Value:\n",
        "            raise ValueError(f\"Other is not of type 'Value', other is of type '{type(other)}'\")\n",
        "\n",
        "        out = Value(self.data / other.data, (self, other), \"/\", label=\"v\")\n",
        "\n",
        "        def backward():\n",
        "            self.grad += other.data**-1 * out.grad\n",
        "            other.grad += (-1 * (self.data * other.data**-2)) * out.grad\n",
        "\n",
        "        out.backward = backward\n",
        "        return out\n",
        "    \n",
        "    def __pow__(self, other):\n",
        "        if type(other) != Value:\n",
        "            raise ValueError(f\"Other is not of type 'Value', other is of type '{type(other)}'\")\n",
        "\n",
        "        out = Value(self.data ** other.data, (self, other), \"**\", label=\"v\")\n",
        "\n",
        "        def backward():\n",
        "            self.grad += (other.data * self.data ** (other.data-1)) * out.grad\n",
        "        \n",
        "        out.backward = backward\n",
        "        return out\n",
        "\n",
        "    def exp(self):\n",
        "        out = Value(math.e ** self.data, (self,), \"exp\", label=\"v\")\n",
        "\n",
        "        def backward():\n",
        "            self.grad += out.data * out.grad\n",
        "\n",
        "        out.backward = backward\n",
        "        return out\n",
        "    \n",
        "    def log(self):\n",
        "        out = Value(math.log(self.data), (self,), \"log\", label=\"v\")\n",
        "\n",
        "        def backward():\n",
        "            self.grad += (1/self.data) * out.grad\n",
        "        \n",
        "        out.backward = backward\n",
        "        return out\n",
        "\n",
        "    def tanh(self):\n",
        "        tanh_res = (math.exp(2*self.data) - 1) / (math.exp(2*self.data) + 1)\n",
        "        out = Value(tanh_res, (self,), \"tanh\", label=\"o\")\n",
        "\n",
        "        def backward():\n",
        "            self.grad += (1 - t**2) * out.grad\n",
        "        \n",
        "        out.backward = backward\n",
        "        return out\n",
        "    \n",
        "    def backwards(self):\n",
        "        self.grad = 1.0\n",
        "        topo = []\n",
        "        visited = set()\n",
        "        def build_topo(node):\n",
        "            if node in visited:\n",
        "                return\n",
        "\n",
        "            visited.add(node)\n",
        "            for child in node.prev:\n",
        "                build_topo(child)\n",
        "\n",
        "            topo.append(node)\n",
        "        \n",
        "        build_topo(self)\n",
        "        for node in reversed(topo):\n",
        "            node.backward()\n",
        "\n",
        "class Neuron:\n",
        "    def __init__(self, nin):\n",
        "        self.w = [Value(random.uniform(-1, 1), label=\"w\") for _ in range(nin)]\n",
        "        self.b = Value(random.uniform(-1, 1), label=\"b\")\n",
        "\n",
        "    def __call__(self, x):\n",
        "        out = sum((wi * xi for wi, xi in zip(self.w, x)), self.b)\n",
        "        return out.tanh()\n",
        "    \n",
        "    def parameters(self):\n",
        "        return self.w + [self.b]\n",
        "\n",
        "class Layer:\n",
        "    def __init__(self, nin, nout):\n",
        "        self.neurons = [Neuron(nin) for _ in range(nout)]\n",
        "\n",
        "    def __call__(self, x):\n",
        "        outs = [n(x) for n in self.neurons]\n",
        "        if len(outs) == 1:\n",
        "            return outs[0]\n",
        "\n",
        "        return outs\n",
        "    \n",
        "    def parameters(self):\n",
        "        params = []\n",
        "        for neuron in self.neurons:\n",
        "            ps = neuron.parameters()\n",
        "            params.extend(ps)\n",
        "        \n",
        "        return params\n",
        "\n",
        "class MLP:\n",
        "    def __init__(self, nin, nouts):\n",
        "        sz = [nin] + nouts\n",
        "        self.layers = [Layer(sz[i], sz[i + 1]) for i in range(len(nouts))]\n",
        "\n",
        "    def __call__(self, x):\n",
        "        for layer in self.layers:\n",
        "            x = layer(x)\n",
        "        \n",
        "        return x\n",
        "    \n",
        "    def parameters(self):\n",
        "        params = []\n",
        "        for layer in self.layers:\n",
        "            ps = layer.parameters()\n",
        "            params.extend(ps)\n",
        "        \n",
        "        return params"
      ]
    },
    {
      "cell_type": "code",
      "execution_count": 49,
      "metadata": {
        "id": "VgWvwVQNAvnI"
      },
      "outputs": [
        {
          "name": "stdout",
          "output_type": "stream",
          "text": [
            "Our loss: 2.1755153626167143\n",
            "OK for dim 0: expected 0.041772570515350445, yours returns 0.04177257051535045\n",
            "OK for dim 1: expected 0.8390245074625319, yours returns 0.8390245074625319\n",
            "OK for dim 2: expected 0.005653302662216329, yours returns 0.00565330266221633\n",
            "OK for dim 3: expected -0.8864503806400986, yours returns -0.886450380640099\n"
          ]
        }
      ],
      "source": [
        "# without referencing our code/video __too__ much, make this cell work\n",
        "# you'll have to implement (in some cases re-implemented) a number of functions\n",
        "# of the Value object, similar to what we've seen in the video.\n",
        "# instead of the squared error loss this implements the negative log likelihood\n",
        "# loss, which is very often used in classification.\n",
        "\n",
        "# this is the softmax function\n",
        "# https://en.wikipedia.org/wiki/Softmax_function\n",
        "def softmax(logits):\n",
        "  counts = [logit.exp() for logit in logits]\n",
        "  denominator = sum(counts, Value(0))\n",
        "  out = [count / denominator for count in counts]\n",
        "  return out\n",
        "\n",
        "# this is the negative log likelihood loss function, pervasive in classification\n",
        "logits = [Value(0.0), Value(3.0), Value(-2.0), Value(1.0)]\n",
        "probs = softmax(logits)\n",
        "loss = -probs[3].log() # dim 3 acts as the label for this input example\n",
        "loss.backwards()\n",
        "print(f\"Our loss: {loss.data}\")\n",
        "\n",
        "ans = [0.041772570515350445, 0.8390245074625319, 0.005653302662216329, -0.8864503806400986]\n",
        "for dim in range(4):\n",
        "  ok = 'OK' if abs(logits[dim].grad - ans[dim]) < 1e-5 else 'WRONG!'\n",
        "  print(f\"{ok} for dim {dim}: expected {ans[dim]}, yours returns {logits[dim].grad}\")\n"
      ]
    },
    {
      "cell_type": "code",
      "execution_count": 50,
      "metadata": {
        "id": "q7ca1SVAGG1S"
      },
      "outputs": [
        {
          "name": "stdout",
          "output_type": "stream",
          "text": [
            "Torch loss: 2.1755153626167143\n"
          ]
        }
      ],
      "source": [
        "# verify the gradient using the torch library\n",
        "# torch should give you the exact same gradient\n",
        "import torch\n",
        "\n",
        "# this is the softmax function\n",
        "# https://en.wikipedia.org/wiki/Softmax_function\n",
        "def softmax_t(logits):\n",
        "  counts = math.e ** logits\n",
        "  denominator = counts.sum()\n",
        "  out = counts / denominator\n",
        "  return out\n",
        "\n",
        "# this is the negative log likelihood loss function, pervasive in classification\n",
        "logits = torch.Tensor([0.0, 3.0, -2.0, 1.0]).double()\n",
        "logits.requires_grad = True\n",
        "probs = softmax_t(logits)\n",
        "loss = -probs[3].log() # dim 3 acts as the label for this input example\n",
        "loss.backward()\n",
        "print(f\"Torch loss: {loss.item()}\")\n"
      ]
    },
    {
      "cell_type": "code",
      "execution_count": null,
      "metadata": {},
      "outputs": [],
      "source": []
    }
  ],
  "metadata": {
    "colab": {
      "provenance": []
    },
    "kernelspec": {
      "display_name": "Python 3",
      "name": "python3"
    },
    "language_info": {
      "codemirror_mode": {
        "name": "ipython",
        "version": 3
      },
      "file_extension": ".py",
      "mimetype": "text/x-python",
      "name": "python",
      "nbconvert_exporter": "python",
      "pygments_lexer": "ipython3",
      "version": "3.10.12"
    }
  },
  "nbformat": 4,
  "nbformat_minor": 0
}
